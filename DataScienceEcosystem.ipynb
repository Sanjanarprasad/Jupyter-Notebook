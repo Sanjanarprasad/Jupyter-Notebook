{
  "metadata": {
    "kernelspec": {
      "name": "python",
      "display_name": "Python (Pyodide)",
      "language": "python"
    },
    "language_info": {
      "codemirror_mode": {
        "name": "python",
        "version": 3
      },
      "file_extension": ".py",
      "mimetype": "text/x-python",
      "name": "python",
      "nbconvert_exporter": "python",
      "pygments_lexer": "ipython3",
      "version": "3.8"
    }
  },
  "nbformat_minor": 4,
  "nbformat": 4,
  "cells": [
    {
      "cell_type": "markdown",
      "source": "# data science Ecosystem",
      "metadata": {}
    },
    {
      "cell_type": "markdown",
      "source": "In this notebook,Data science tools and ecosystem are summarised",
      "metadata": {}
    },
    {
      "cell_type": "markdown",
      "source": "Some of the popular languages that Datascientists use are:\n1. Python\n2. R\n3. Java\n4. C++",
      "metadata": {}
    },
    {
      "cell_type": "markdown",
      "source": "Some of the commomly used libraries by datascientists include:\n1.Pandas\n2.Matplotlib\n3.Numpy\n4.TensorFlow",
      "metadata": {}
    },
    {
      "cell_type": "markdown",
      "source": "### Create a table",
      "metadata": {}
    },
    {
      "cell_type": "markdown",
      "source": "| Datascience tools |\n| :-:|\n|  Apache spark |\n| Tableau|\n| Jupyter Project|",
      "metadata": {}
    },
    {
      "cell_type": "markdown",
      "source": "### Below are a few examples of evaluating arithmatic expressions on python:",
      "metadata": {}
    },
    {
      "cell_type": "markdown",
      "source": "1. $ Ax^2+Bx+C$\n2. $ Ax^3+Bx^2+Cx+D$\n3. $ Ax+C$",
      "metadata": {}
    },
    {
      "cell_type": "markdown",
      "source": "#### simple arithmatic expression to multiply and add two integers:",
      "metadata": {}
    },
    {
      "cell_type": "code",
      "source": "print((3*4)+5)\n",
      "metadata": {
        "trusted": true
      },
      "outputs": [
        {
          "name": "stdout",
          "text": "17\n",
          "output_type": "stream"
        }
      ],
      "execution_count": 10
    },
    {
      "cell_type": "markdown",
      "source": "### This will convert 200 minutes to hours dividing by 60:",
      "metadata": {}
    },
    {
      "cell_type": "code",
      "source": "print((200/60),\"hrs\")",
      "metadata": {
        "trusted": true
      },
      "outputs": [
        {
          "name": "stdout",
          "text": "3.3333333333333335 hrs\n",
          "output_type": "stream"
        }
      ],
      "execution_count": 12
    },
    {
      "cell_type": "markdown",
      "source": "#### OBJECTIVES:\n- Libraries used by Datascientists\n- Arithmatic operations on Jupyter Notebook\n- Create a Table on Jupyter Notebook\n- Popular languages of datascience\n- Markdown function",
      "metadata": {}
    },
    {
      "cell_type": "markdown",
      "source": "## Author\nSanjana R",
      "metadata": {}
    }
  ]
}